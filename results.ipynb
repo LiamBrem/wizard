{
 "cells": [
  {
   "cell_type": "markdown",
   "id": "8df4c4a0",
   "metadata": {},
   "source": [
    "# **🧙‍♂️ Wizard 🪄**\n",
    "### Finding the optimized bidding strategy for the card game *Wizard* using a genetic algorithm\n",
    "##### [Here](https://en.wikipedia.org/wiki/Wizard_(card_game)#Gameplay) are the rules.\n",
    "---"
   ]
  },
  {
   "cell_type": "markdown",
   "id": "2f75a30b",
   "metadata": {},
   "source": [
    "We're going to use a [genetic algorithm](https://en.wikipedia.org/wiki/Genetic_algorithm) in order to find the best strategy during the bidding phase of Wizard. "
   ]
  },
  {
   "cell_type": "markdown",
   "id": "6ff5d56e",
   "metadata": {},
   "source": [
    "There are many variables that go into the bidding round, I've defined some heuristics to start:\n",
    "- High Card Weight\n",
    "- Wizard Weight\n",
    "- Jester Weight\n",
    "- Trump Weight\n",
    "- Position Bias\n",
    "- Risk Bias\n",
    "- Overbid Penalty Weight\n",
    "\n",
    "\n",
    "---"
   ]
  },
  {
   "cell_type": "markdown",
   "id": "626dce93",
   "metadata": {},
   "source": [
    "### 🧬 Evolution Summary\n",
    "This section reports the top-performing genome and how fitness evolved across generations.\n",
    "- **Generations:** 75  \n",
    "- **Population size:** 30 bots  \n",
    "- **Elite count:** Top 10 preserved each generation  \n",
    "- **Games per bot per generation:** 200  \n",
    "- **Total evolved games:** ≈ 450,000  \n",
    "- **Selection criteria:** Bots evaluated by total score over games with randomized player count and 2 fixed baselines\n",
    "\n"
   ]
  },
  {
   "cell_type": "markdown",
   "id": "8807201f",
   "metadata": {},
   "source": [
    "#### Imports:"
   ]
  },
  {
   "cell_type": "code",
   "execution_count": 45,
   "id": "c207d085",
   "metadata": {},
   "outputs": [
    {
     "name": "stdout",
     "output_type": "stream",
     "text": [
      "The autoreload extension is already loaded. To reload it, use:\n",
      "  %reload_ext autoreload\n"
     ]
    }
   ],
   "source": [
    "%load_ext autoreload\n",
    "%autoreload 2\n",
    "import sys\n",
    "import pandas as pd\n",
    "import numpy as np\n",
    "import matplotlib.pyplot as plt \n",
    "from IPython.display import display\n",
    "sys.path.append(\"pyFiles\")\n",
    "from genetic import evolve, validate_best_genome"
   ]
  },
  {
   "cell_type": "markdown",
   "id": "9aafdd4d",
   "metadata": {},
   "source": [
    "#### Run the genetic algorithm:"
   ]
  },
  {
   "cell_type": "code",
   "execution_count": 46,
   "id": "46ab4051",
   "metadata": {},
   "outputs": [
    {
     "name": "stdout",
     "output_type": "stream",
     "text": [
      "\n",
      " Evolution Complete\n"
     ]
    }
   ],
   "source": [
    "df_history, best_genome_data = evolve()\n",
    "print(\"\\n Evolution Complete\")"
   ]
  },
  {
   "cell_type": "code",
   "execution_count": 47,
   "id": "38d5fe02",
   "metadata": {},
   "outputs": [
    {
     "name": "stdout",
     "output_type": "stream",
     "text": [
      "\n",
      " Best Genome Weights:\n",
      "trump_weight              1.107\n",
      "position_bias            -1.014\n",
      "wizard_weight             0.953\n",
      "risk_bias                -0.600\n",
      "high_card_weight          0.529\n",
      "jester_weight            -0.159\n",
      "overbid_penalty_weight    0.131\n",
      "dtype: float64\n"
     ]
    }
   ],
   "source": [
    "print(\"\\n Best Genome Weights:\")\n",
    "best_genome_series = pd.Series(best_genome_data).round(3).sort_values(key=abs, ascending=False)\n",
    "print(best_genome_series)"
   ]
  },
  {
   "cell_type": "markdown",
   "id": "0f375814",
   "metadata": {},
   "source": [
    "#### Interpreting this data\n",
    "\n",
    "\n",
    "---\n"
   ]
  },
  {
   "cell_type": "markdown",
   "id": "6efb291a",
   "metadata": {},
   "source": []
  },
  {
   "cell_type": "markdown",
   "id": "01d9529e",
   "metadata": {},
   "source": [
    "### Testing our strategy:"
   ]
  },
  {
   "cell_type": "code",
   "execution_count": null,
   "id": "b5fffada",
   "metadata": {},
   "outputs": [],
   "source": [
    "validation_df, bid_freq = validate_best_genome(best_genome_data, games=10000, num_players=5)"
   ]
  },
  {
   "cell_type": "code",
   "execution_count": null,
   "id": "cb09c299",
   "metadata": {},
   "outputs": [
    {
     "name": "stdout",
     "output_type": "stream",
     "text": [
      "\n",
      " Validation Results:\n",
      "   Metric  Value\n",
      "Avg Score   8.93\n",
      "Hit Bid % 47.90%\n",
      "    Games   1000\n",
      "\n",
      "Bid Distribution (out of 1000 rounds):\n",
      "0    206\n",
      "1    213\n",
      "2    234\n",
      "3    214\n",
      "4    110\n",
      "5     20\n",
      "6      3\n"
     ]
    },
    {
     "data": {
      "text/plain": [
       "<Axes: title={'center': 'Bid Distribution'}, xlabel='Bid', ylabel='Frequency'>"
      ]
     },
     "execution_count": 49,
     "metadata": {},
     "output_type": "execute_result"
    },
    {
     "data": {
      "image/png": "[encoded data removed]",
      "text/plain": [
       "<Figure size 640x480 with 1 Axes>"
      ]
     },
     "metadata": {},
     "output_type": "display_data"
    }
   ],
   "source": [
    "print(\"\\n Validation Results:\")\n",
    "print(validation_df.to_string(index=False))\n",
    "\n",
    "print(\"\\nBid Distribution (out of 10000 rounds):\")\n",
    "print(bid_freq.to_string())\n",
    "\n",
    "bid_freq.plot(kind=\"bar\", title=\"Bid Distribution\", xlabel=\"Bid\", ylabel=\"Frequency\")\n"
   ]
  }
 ],
 "metadata": {
  "kernelspec": {
   "display_name": "venv",
   "language": "python",
   "name": "python3"
  },
  "language_info": {
   "codemirror_mode": {
    "name": "ipython",
    "version": 3
   },
   "file_extension": ".py",
   "mimetype": "text/x-python",
   "name": "python",
   "nbconvert_exporter": "python",
   "pygments_lexer": "ipython3",
   "version": "3.12.5"
  }
 },
 "nbformat": 4,
 "nbformat_minor": 5
}
