{
 "cells": [
  {
   "cell_type": "markdown",
   "id": "8df4c4a0",
   "metadata": {},
   "source": [
    "# **🧙‍♂️ Wizard 🪄**\n",
    "### Finding the optimized bidding strategy for the card game *Wizard* using a genetic algorithm\n",
    "##### [Here](https://en.wikipedia.org/wiki/Wizard_(card_game)#Gameplay) are the rules.\n",
    "---"
   ]
  },
  {
   "cell_type": "markdown",
   "id": "2f75a30b",
   "metadata": {},
   "source": [
    "## 🧬 Part 1, Genetic Algorithm\n",
    "We're going to use a [genetic algorithm](https://en.wikipedia.org/wiki/Genetic_algorithm) in order to find the best strategy during the bidding phase of Wizard. "
   ]
  },
  {
   "cell_type": "markdown",
   "id": "6ff5d56e",
   "metadata": {},
   "source": [
    "There are many variables that go into the bidding round, I've defined some important heuristics to start:\n",
    "- High Card Weight\n",
    "- Wizard Weight\n",
    "- Jester Weight\n",
    "- Trump Weight\n",
    "- Position Bias\n",
    "- Risk Bias\n",
    "- Overbid Penalty Weight\n",
    "\n",
    "\n",
    "---"
   ]
  },
  {
   "cell_type": "markdown",
   "id": "626dce93",
   "metadata": {},
   "source": [
    "### Evolution Summary\n",
    "This section reports the top-performing genome and how fitness evolved across generations.\n",
    "- **Generations:** 75  \n",
    "- **Population size:** 30 bots  \n",
    "- **Elite count:** Top 10 preserved each generation  \n",
    "- **Games per bot per generation:** 200  \n",
    "- **Total evolved games:** ≈ 450,000  \n",
    "- **Selection criteria:** Bots evaluated by total score over games with randomized player count and 2 fixed baselines\n",
    "\n"
   ]
  },
  {
   "cell_type": "markdown",
   "id": "8807201f",
   "metadata": {},
   "source": [
    "#### Imports:"
   ]
  },
  {
   "cell_type": "code",
   "execution_count": 189,
   "id": "c207d085",
   "metadata": {},
   "outputs": [
    {
     "name": "stdout",
     "output_type": "stream",
     "text": [
      "The autoreload extension is already loaded. To reload it, use:\n",
      "  %reload_ext autoreload\n"
     ]
    }
   ],
   "source": [
    "%load_ext autoreload\n",
    "%autoreload 2\n",
    "import sys\n",
    "import pandas as pd\n",
    "import numpy as np\n",
    "import matplotlib.pyplot as plt \n",
    "from IPython.display import display\n",
    "sys.path.append(\"pyFiles\")\n",
    "from genetic import evolve, validate_best_genome\n",
    "from simulation import validate_probability_player, prob_win"
   ]
  },
  {
   "cell_type": "markdown",
   "id": "9aafdd4d",
   "metadata": {},
   "source": [
    "#### Run the genetic algorithm:"
   ]
  },
  {
   "cell_type": "code",
   "execution_count": 57,
   "id": "46ab4051",
   "metadata": {},
   "outputs": [
    {
     "name": "stdout",
     "output_type": "stream",
     "text": [
      "\n",
      " Evolution Complete\n"
     ]
    }
   ],
   "source": [
    "df_history, best_genome_data = evolve()\n",
    "print(\"\\n Evolution Complete\")"
   ]
  },
  {
   "cell_type": "code",
   "execution_count": 58,
   "id": "38d5fe02",
   "metadata": {},
   "outputs": [
    {
     "name": "stdout",
     "output_type": "stream",
     "text": [
      "\n",
      " Best Genome Weights:\n",
      "wizard_weight             1.312\n",
      "trump_weight              1.133\n",
      "risk_bias                -0.887\n",
      "high_card_weight          0.581\n",
      "jester_weight            -0.531\n",
      "overbid_penalty_weight    0.213\n",
      "position_bias            -0.163\n",
      "dtype: float64\n"
     ]
    }
   ],
   "source": [
    "print(\"\\n Best Genome Weights:\")\n",
    "best_genome_series = pd.Series(best_genome_data).round(3).sort_values(key=abs, ascending=False)\n",
    "print(best_genome_series)"
   ]
  },
  {
   "cell_type": "markdown",
   "id": "0f375814",
   "metadata": {},
   "source": [
    "#### Interpreting this data\n",
    "| Heuristic | Interpretation |\n",
    "| ------------------------ | ---------- |\n",
    "| `trump_weight`           | Trump cards are highly valuable. You should heavily favor bidding **higher** when holding strong trump cards.                  |\n",
    "| `position_bias`          | If you bid earlier in the turn order, be more conservative. Later players have more information and can bid more aggressively. |\n",
    "| `wizard_weight`          | Wizards strongly increase your bidding potential. Each one should almost always be worth one trick.                            |\n",
    "| `high_card_weight`       | High non-trump cards help, but much less than trump or wizards. They're not always reliable for taking tricks.                 |\n",
    "| `risk_bias`              | A slightly conservative tilt overall — only bid aggressively when you're confident.                                            |\n",
    "| `jester_weight`          | Jesters have a very mild negative effect. They rarely help win tricks, but don’t drastically hurt your chances either.         |\n",
    "| `overbid_penalty_weight` | This bot doesn’t fear overbidding much. It slightly favors **aiming for a fair bid** over playing it too safe.                 |\n",
    "\n",
    "\n",
    "---\n"
   ]
  },
  {
   "cell_type": "markdown",
   "id": "6efb291a",
   "metadata": {},
   "source": []
  },
  {
   "cell_type": "markdown",
   "id": "01d9529e",
   "metadata": {},
   "source": [
    "### Testing our strategy:"
   ]
  },
  {
   "cell_type": "code",
   "execution_count": 59,
   "id": "b5fffada",
   "metadata": {},
   "outputs": [],
   "source": [
    "validation_df, bid_freq = validate_best_genome(best_genome_data, games=10000, num_players=5)"
   ]
  },
  {
   "cell_type": "code",
   "execution_count": 60,
   "id": "cb09c299",
   "metadata": {},
   "outputs": [
    {
     "name": "stdout",
     "output_type": "stream",
     "text": [
      "\n",
      " Validation Results:\n",
      "   Metric  Value\n",
      "Avg Score   9.08\n",
      "Hit Bid % 48.77%\n",
      "    Games  10000\n",
      "\n",
      "Bid Distribution (out of 10000 rounds):\n",
      "   Count Percent\n",
      "0   2852  28.52%\n",
      "1   2091  20.91%\n",
      "2   1943  19.43%\n",
      "3   1663  16.63%\n",
      "4    991   9.91%\n",
      "5    373   3.73%\n",
      "6     77   0.77%\n",
      "7      9   0.09%\n",
      "8      1   0.01%\n"
     ]
    },
    {
     "data": {
      "text/plain": [
       "<Axes: title={'center': 'Bid Distribution'}, xlabel='Bid', ylabel='Frequency'>"
      ]
     },
     "execution_count": 60,
     "metadata": {},
     "output_type": "execute_result"
    },
    {
     "data": {
      "image/png": "[encoded data removed]",
      "text/plain": [
       "<Figure size 640x480 with 1 Axes>"
      ]
     },
     "metadata": {},
     "output_type": "display_data"
    }
   ],
   "source": [
    "print(\"\\n Validation Results:\")\n",
    "print(validation_df.to_string(index=False))\n",
    "\n",
    "print(\"\\nBid Distribution (out of 10000 rounds):\")\n",
    "print(bid_freq.to_string())\n",
    "\n",
    "bid_freq.plot(kind=\"bar\", title=\"Bid Distribution\", xlabel=\"Bid\", ylabel=\"Frequency\")\n"
   ]
  },
  {
   "cell_type": "markdown",
   "id": "cff214af",
   "metadata": {},
   "source": [
    "---\n",
    "## 🧮 Part 2: Hand Strength Evaluation\n",
    "### ❓ How can we make this even more accurate?\n",
    "- We can estimate the probability of each card winning a trick"
   ]
  },
  {
   "cell_type": "markdown",
   "id": "ace3c0c4",
   "metadata": {},
   "source": [
    "For small hands (<= 2 cards) we calculate the probabilities, but for larger hands, we run monte carlo-style simulations with random tricks to estimate a probability\n",
    "For example:"
   ]
  },
  {
   "cell_type": "code",
   "execution_count": 72,
   "id": "6e688f27",
   "metadata": {},
   "outputs": [
    {
     "name": "stdout",
     "output_type": "stream",
     "text": [
      "Trump Suit: Spades, Players: 4, Round: 3\n",
      "Q♥️: Estimated win probability = 34.00%\n",
      "9♠️: Estimated win probability = 54.40%\n",
      "A♣️: Estimated win probability = 36.80%\n"
     ]
    }
   ],
   "source": [
    "from deck import Card\n",
    "from simulation import prob_win\n",
    "import random\n",
    "\n",
    "hand = [\n",
    "    Card(\"Hearts\", \"Q\"),\n",
    "    Card(\"Spades\", \"9\"),\n",
    "    Card(\"Clubs\", \"A\")\n",
    "]\n",
    "\n",
    "trump_suit = \"Spades\"\n",
    "num_players = 4\n",
    "round_number = len(hand)\n",
    "\n",
    "# Print win probabilities for each card in hand\n",
    "print(f\"Trump Suit: {trump_suit}, Players: {num_players}, Round: {round_number}\")\n",
    "for card in hand:\n",
    "    p_win = prob_win(card, hand, trump_suit, num_players, round_number)\n",
    "    print(f\"{card}: Estimated win probability = {p_win:.2%}\")\n"
   ]
  },
  {
   "cell_type": "code",
   "execution_count": 177,
   "id": "19f8e41c",
   "metadata": {},
   "outputs": [
    {
     "name": "stdout",
     "output_type": "stream",
     "text": [
      "Trump Suit: Spades, Players: 5, Round: 7\n",
      "Q♥️: Estimated win probability = 22.50%\n",
      "9♠️: Estimated win probability = 50.40%\n",
      "A♣️: Estimated win probability = 26.90%\n",
      "K♦️: Estimated win probability = 23.70%\n",
      "2♥️: Estimated win probability = 7.00%\n",
      "5♠️: Estimated win probability = 35.50%\n",
      "3♣️: Estimated win probability = 8.00%\n"
     ]
    }
   ],
   "source": [
    "hand = [\n",
    "    Card(\"Hearts\", \"Q\"),\n",
    "    Card(\"Spades\", \"9\"),\n",
    "    Card(\"Clubs\", \"A\"),\n",
    "    Card(\"Diamonds\", \"K\"),\n",
    "    Card(\"Hearts\", \"2\"),\n",
    "    Card(\"Spades\", \"5\"),\n",
    "    Card(\"Clubs\", \"3\"),\n",
    "]\n",
    "\n",
    "trump_suit = \"Spades\"\n",
    "num_players = 5\n",
    "round_number = len(hand)\n",
    "\n",
    "print(f\"Trump Suit: {trump_suit}, Players: {num_players}, Round: {round_number}\")\n",
    "for card in hand:\n",
    "    p_win = prob_win(card, hand, trump_suit, num_players, round_number)\n",
    "    print(f\"{card}: Estimated win probability = {p_win:.2%}\")"
   ]
  },
  {
   "cell_type": "markdown",
   "id": "4602c235",
   "metadata": {},
   "source": [
    "If you run the simulation multiple times for the same hand, you'll notice that the probabilites differ slightly, but are always within a few percentages of one another. "
   ]
  },
  {
   "cell_type": "markdown",
   "id": "a670d33b",
   "metadata": {},
   "source": [
    "### Visualization across ranks:"
   ]
  },
  {
   "cell_type": "code",
   "execution_count": 150,
   "id": "3900637e",
   "metadata": {},
   "outputs": [
    {
     "data": {
      "image/png": "[encoded data removed]",
      "text/plain": [
       "<Figure size 1000x500 with 1 Axes>"
      ]
     },
     "metadata": {},
     "output_type": "display_data"
    }
   ],
   "source": [
    "suit = \"Hearts\"\n",
    "hand = [Card(suit, rank) for rank in Deck.ranks if rank not in ('W', 'E')]\n",
    "\n",
    "probs = [\n",
    "    prob_win(card, hand, trump_suit=\"Spades\", num_players=5, round_number=5)\n",
    "    for card in hand\n",
    "]\n",
    "\n",
    "plt.figure(figsize=(10, 5))\n",
    "plt.plot(Deck.ranks[:-2], probs, marker='o')\n",
    "plt.title(\"Estimated Trick Win Probability by Rank (Hearts vs Spade Trump)\")\n",
    "plt.xlabel(\"Card Rank\")\n",
    "plt.ylabel(\"Win Probability\")\n",
    "plt.grid(True)\n",
    "plt.show()"
   ]
  },
  {
   "cell_type": "markdown",
   "id": "2b74d368",
   "metadata": {},
   "source": [
    "#### Now to create a bidding strategy, we can sum the probabilities of each card in our hand:"
   ]
  },
  {
   "cell_type": "code",
   "execution_count": 193,
   "id": "05f92631",
   "metadata": {},
   "outputs": [],
   "source": [
    "summary, bid_distribution = validate_probability_player(games=100, num_players=5)"
   ]
  },
  {
   "cell_type": "code",
   "execution_count": 194,
   "id": "93a12179",
   "metadata": {},
   "outputs": [
    {
     "name": "stdout",
     "output_type": "stream",
     "text": [
      "\n",
      " Validation Results:\n",
      "   Metric  Value\n",
      "Avg Score   7.18\n",
      "Hit Bid % 41.00%\n",
      "    Games    100\n",
      "\n",
      "Bid Distribution (out of 100 rounds):\n",
      "   Count Percent\n",
      "0      9    9.0%\n",
      "1     35   35.0%\n",
      "2     24   24.0%\n",
      "3     15   15.0%\n",
      "4      8    8.0%\n",
      "5      1    1.0%\n",
      "6      7    7.0%\n",
      "7      1    1.0%\n"
     ]
    },
    {
     "data": {
      "text/plain": [
       "<Axes: title={'center': 'Bid Distribution'}, xlabel='Bid', ylabel='Frequency'>"
      ]
     },
     "execution_count": 194,
     "metadata": {},
     "output_type": "execute_result"
    },
    {
     "data": {
      "image/png": "[encoded data removed]",
      "text/plain": [
       "<Figure size 640x480 with 1 Axes>"
      ]
     },
     "metadata": {},
     "output_type": "display_data"
    }
   ],
   "source": [
    "print(\"\\n Validation Results:\")\n",
    "print(summary.to_string(index=False))\n",
    "\n",
    "print(\"\\nBid Distribution (out of 100 rounds):\")\n",
    "print(bid_distribution.to_string())\n",
    "\n",
    "bid_distribution.plot(kind=\"bar\", title=\"Bid Distribution\", xlabel=\"Bid\", ylabel=\"Frequency\")"
   ]
  }
 ],
 "metadata": {
  "kernelspec": {
   "display_name": "venv",
   "language": "python",
   "name": "python3"
  },
  "language_info": {
   "codemirror_mode": {
    "name": "ipython",
    "version": 3
   },
   "file_extension": ".py",
   "mimetype": "text/x-python",
   "name": "python",
   "nbconvert_exporter": "python",
   "pygments_lexer": "ipython3",
   "version": "3.12.5"
  }
 },
 "nbformat": 4,
 "nbformat_minor": 5
}
